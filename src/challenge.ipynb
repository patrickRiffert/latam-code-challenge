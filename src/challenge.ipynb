{
 "cells": [
  {
   "cell_type": "markdown",
   "metadata": {},
   "source": [
    "En este archivo puedes escribir lo que estimes conveniente. Te recomendamos detallar tu solución y todas las suposiciones que estás considerando. Aquí puedes ejecutar las funciones que definiste en los otros archivos de la carpeta src, medir el tiempo, memoria, etc."
   ]
  },
  {
   "cell_type": "code",
   "execution_count": 1,
   "metadata": {},
   "outputs": [],
   "source": [
    "# imports\n",
    "from q1_time import q1_time\n",
    "from q1_memory import q1_memory\n",
    "import cProfile\n",
    "import subprocess\n",
    "\n",
    "FILE_PATH = \"../data/farmers-protest-tweets-2021-2-4.json\""
   ]
  },
  {
   "cell_type": "markdown",
   "metadata": {},
   "source": [
    "## 1) Top 10 fechas com más tweets"
   ]
  },
  {
   "cell_type": "markdown",
   "metadata": {},
   "source": [
    "### q1_time\n",
    "\n",
    "Para esta función, utilicé DuckDB para leer y manipular los datos. Dado que el enfoque de esta función es el tiempo de procesamiento, DuckDB resulta ser una librería muy efectiva, ya que carga los datos en memoria y cuenta con un motor de ejecución vectorizado, lectores de archivos CSV optimizados, paralelismo automático y un planeamiento eficiente de consultas SQL. Esto facilitó la búsqueda de las fechas con más tuits y el usuario con más tuits por fecha, ya que los datos se manipularon en conjunto, sin necesidad de iterar sobre cada línea, utilizando consultas SQL tradicionales."
   ]
  },
  {
   "cell_type": "markdown",
   "metadata": {},
   "source": [
    "**Output**"
   ]
  },
  {
   "cell_type": "code",
   "execution_count": 6,
   "metadata": {},
   "outputs": [
    {
     "data": {
      "text/plain": [
       "[(datetime.date(2021, 2, 12), 'RanbirS00614606'),\n",
       " (datetime.date(2021, 2, 13), 'MaanDee08215437'),\n",
       " (datetime.date(2021, 2, 17), 'RaaJVinderkaur'),\n",
       " (datetime.date(2021, 2, 16), 'jot__b'),\n",
       " (datetime.date(2021, 2, 14), 'rebelpacifist'),\n",
       " (datetime.date(2021, 2, 18), 'neetuanjle_nitu'),\n",
       " (datetime.date(2021, 2, 15), 'jot__b'),\n",
       " (datetime.date(2021, 2, 20), 'MangalJ23056160'),\n",
       " (datetime.date(2021, 2, 23), 'Surrypuria'),\n",
       " (datetime.date(2021, 2, 19), 'Preetm91')]"
      ]
     },
     "execution_count": 6,
     "metadata": {},
     "output_type": "execute_result"
    }
   ],
   "source": [
    "q1_time(FILE_PATH)"
   ]
  },
  {
   "cell_type": "markdown",
   "metadata": {},
   "source": [
    "Tiempo de execución"
   ]
  },
  {
   "cell_type": "code",
   "execution_count": 7,
   "metadata": {},
   "outputs": [
    {
     "name": "stdout",
     "output_type": "stream",
     "text": [
      "         4730 function calls (4726 primitive calls) in 0.010 seconds\n",
      "\n",
      "   Ordered by: standard name\n",
      "\n",
      "   ncalls  tottime  percall  cumtime  percall filename:lineno(function)\n",
      "       26    0.000    0.000    0.000    0.000 <frozen abc>:117(__instancecheck__)\n",
      "        2    0.000    0.000    0.000    0.000 <frozen abc>:121(__subclasscheck__)\n",
      "       21    0.000    0.000    0.000    0.000 <frozen importlib._bootstrap>:1128(find_spec)\n",
      "       84    0.000    0.000    0.000    0.000 <frozen importlib._bootstrap>:1222(__enter__)\n",
      "       84    0.000    0.000    0.000    0.000 <frozen importlib._bootstrap>:1226(__exit__)\n",
      "       21    0.000    0.000    0.000    0.000 <frozen importlib._bootstrap>:124(setdefault)\n",
      "       21    0.000    0.000    0.002    0.000 <frozen importlib._bootstrap>:1240(_find_spec)\n",
      "       21    0.000    0.000    0.002    0.000 <frozen importlib._bootstrap>:1304(_find_and_load_unlocked)\n",
      "       21    0.000    0.000    0.003    0.000 <frozen importlib._bootstrap>:1349(_find_and_load)\n",
      "        4    0.000    0.000    0.000    0.000 <frozen importlib._bootstrap>:1390(_handle_fromlist)\n",
      "       21    0.000    0.000    0.000    0.000 <frozen importlib._bootstrap>:158(__init__)\n",
      "       21    0.000    0.000    0.000    0.000 <frozen importlib._bootstrap>:162(__enter__)\n",
      "       21    0.000    0.000    0.000    0.000 <frozen importlib._bootstrap>:173(__exit__)\n",
      "       21    0.000    0.000    0.000    0.000 <frozen importlib._bootstrap>:232(__init__)\n",
      "       21    0.000    0.000    0.000    0.000 <frozen importlib._bootstrap>:304(acquire)\n",
      "       21    0.000    0.000    0.000    0.000 <frozen importlib._bootstrap>:372(release)\n",
      "       21    0.000    0.000    0.000    0.000 <frozen importlib._bootstrap>:412(__init__)\n",
      "       21    0.000    0.000    0.000    0.000 <frozen importlib._bootstrap>:416(__enter__)\n",
      "       21    0.000    0.000    0.000    0.000 <frozen importlib._bootstrap>:420(__exit__)\n",
      "       21    0.000    0.000    0.000    0.000 <frozen importlib._bootstrap>:426(_get_module_lock)\n",
      "       21    0.000    0.000    0.000    0.000 <frozen importlib._bootstrap>:445(cb)\n",
      "       21    0.000    0.000    0.000    0.000 <frozen importlib._bootstrap>:480(_call_with_frames_removed)\n",
      "      420    0.000    0.000    0.000    0.000 <frozen importlib._bootstrap>:491(_verbose_message)\n",
      "       21    0.000    0.000    0.000    0.000 <frozen importlib._bootstrap>:599(__init__)\n",
      "       21    0.000    0.000    0.000    0.000 <frozen importlib._bootstrap>:74(__new__)\n",
      "       21    0.000    0.000    0.000    0.000 <frozen importlib._bootstrap>:79(__init__)\n",
      "       21    0.000    0.000    0.000    0.000 <frozen importlib._bootstrap>:82(remove)\n",
      "       21    0.000    0.000    0.000    0.000 <frozen importlib._bootstrap>:982(find_spec)\n",
      "      420    0.000    0.000    0.000    0.000 <frozen importlib._bootstrap_external>:131(_path_join)\n",
      "       84    0.000    0.000    0.000    0.000 <frozen importlib._bootstrap_external>:145(_path_stat)\n",
      "      105    0.000    0.000    0.001    0.000 <frozen importlib._bootstrap_external>:1500(_path_importer_cache)\n",
      "       21    0.000    0.000    0.002    0.000 <frozen importlib._bootstrap_external>:1522(_get_spec)\n",
      "       21    0.000    0.000    0.002    0.000 <frozen importlib._bootstrap_external>:1551(find_spec)\n",
      "       84    0.000    0.000    0.001    0.000 <frozen importlib._bootstrap_external>:1624(find_spec)\n",
      "       84    0.000    0.000    0.000    0.000 <frozen importlib._bootstrap_external>:67(_relax_case)\n",
      "        1    0.000    0.000    0.000    0.000 asyncio.py:206(_handle_events)\n",
      "        1    0.000    0.000    0.000    0.000 asyncio.py:231(add_callback)\n",
      "        4    0.000    0.000    0.000    0.000 attrsettr.py:43(__getattr__)\n",
      "        4    0.000    0.000    0.000    0.000 attrsettr.py:66(_get_attr_opt)\n",
      "        1    0.000    0.000    0.000    0.000 base_events.py:1947(_add_callback)\n",
      "        1    0.000    0.000    0.000    0.000 base_events.py:1962(_run_once)\n",
      "        1    0.000    0.000    0.000    0.000 base_events.py:2060(get_debug)\n",
      "        1    0.000    0.000    0.000    0.000 base_events.py:554(_check_closed)\n",
      "        3    0.000    0.000    0.000    0.000 base_events.py:772(time)\n",
      "        1    0.000    0.000    0.000    0.000 base_events.py:823(call_soon)\n",
      "        1    0.000    0.000    0.000    0.000 base_events.py:852(_call_soon)\n",
      "        1    0.000    0.000    0.000    0.000 contextlib.py:108(__init__)\n",
      "        1    0.000    0.000    0.000    0.000 contextlib.py:136(__enter__)\n",
      "        1    0.000    0.000    0.000    0.000 contextlib.py:145(__exit__)\n",
      "        1    0.000    0.000    0.000    0.000 contextlib.py:303(helper)\n",
      "        1    0.000    0.000    0.000    0.000 decorator.py:200(fix)\n",
      "        1    0.000    0.000    0.001    0.001 decorator.py:232(fun)\n",
      "       26    0.000    0.000    0.000    0.000 enum.py:1156(__new__)\n",
      "       60    0.000    0.000    0.000    0.000 enum.py:1589(_get_value)\n",
      "       14    0.000    0.000    0.000    0.000 enum.py:1596(__or__)\n",
      "        6    0.000    0.000    0.000    0.000 enum.py:1607(__and__)\n",
      "       26    0.000    0.000    0.000    0.000 enum.py:695(__call__)\n",
      "        1    0.000    0.000    0.000    0.000 events.py:36(__init__)\n",
      "        2    0.000    0.000    0.000    0.000 events.py:87(_run)\n",
      "        1    0.000    0.000    0.001    0.001 history.py:1008(_writeout_input_cache)\n",
      "        1    0.000    0.000    0.000    0.000 history.py:1016(_writeout_output_cache)\n",
      "        1    0.000    0.000    0.001    0.001 history.py:1024(writeout_cache)\n",
      "        2    0.000    0.000    0.000    0.000 history.py:1065(hold)\n",
      "        1    0.000    0.000    0.001    0.001 history.py:92(only_when_enabled)\n",
      "        4    0.000    0.000    0.000    0.000 inspect.py:2807(name)\n",
      "       10    0.000    0.000    0.000    0.000 inspect.py:2819(kind)\n",
      "        1    0.000    0.000    0.000    0.000 inspect.py:2901(__init__)\n",
      "        1    0.000    0.000    0.000    0.000 inspect.py:2909(args)\n",
      "        1    0.000    0.000    0.000    0.000 inspect.py:2932(kwargs)\n",
      "        1    0.000    0.000    0.000    0.000 inspect.py:2962(apply_defaults)\n",
      "        4    0.000    0.000    0.000    0.000 inspect.py:3102(parameters)\n",
      "        1    0.000    0.000    0.000    0.000 inspect.py:3148(_bind)\n",
      "        1    0.000    0.000    0.000    0.000 inspect.py:3290(bind)\n",
      "        1    0.000    0.000    0.000    0.000 ioloop.py:750(_run_callback)\n",
      "        2    0.000    0.000    0.000    0.000 iostream.py:157(_handle_event)\n",
      "        2    0.000    0.000    0.000    0.000 iostream.py:213(_is_master_process)\n",
      "        2    0.000    0.000    0.000    0.000 iostream.py:216(_check_mp_mode)\n",
      "        2    0.000    0.000    0.000    0.000 iostream.py:255(closed)\n",
      "        2    0.000    0.000    0.000    0.000 iostream.py:276(<lambda>)\n",
      "        2    0.000    0.000    0.000    0.000 iostream.py:278(_really_send)\n",
      "        2    0.000    0.000    0.000    0.000 queue.py:115(empty)\n",
      "        2    0.000    0.000    0.000    0.000 queue.py:267(_qsize)\n",
      "        2    0.000    0.000    0.000    0.000 selector_events.py:740(_process_events)\n",
      "        1    0.000    0.000    0.000    0.000 selectors.py:540(select)\n",
      "       21    0.000    0.000    0.000    0.000 six.py:194(find_spec)\n",
      "       14    0.000    0.000    0.000    0.000 socket.py:623(send)\n",
      "        2    0.000    0.000    0.000    0.000 socket.py:700(send_multipart)\n",
      "        2    0.000    0.000    0.000    0.000 socket.py:771(recv_multipart)\n",
      "        2    0.000    0.000    0.000    0.000 threading.py:303(__enter__)\n",
      "        2    0.000    0.000    0.000    0.000 threading.py:306(__exit__)\n",
      "        1    0.000    0.000    0.000    0.000 threading.py:312(_release_save)\n",
      "        1    0.000    0.000    0.000    0.000 threading.py:315(_acquire_restore)\n",
      "        1    0.000    0.000    0.000    0.000 threading.py:318(_is_owned)\n",
      "        1    0.000    0.000    0.000    0.000 threading.py:631(clear)\n",
      "        1    0.000    0.000    0.000    0.000 traitlets.py:1512(_notify_trait)\n",
      "        1    0.000    0.000    0.000    0.000 traitlets.py:1523(notify_change)\n",
      "        1    0.000    0.000    0.000    0.000 traitlets.py:1527(_notify_observers)\n",
      "        2    0.000    0.000    0.000    0.000 traitlets.py:2304(validate)\n",
      "        2    0.000    0.000    0.000    0.000 traitlets.py:3474(validate)\n",
      "        2    0.000    0.000    0.000    0.000 traitlets.py:3486(validate_elements)\n",
      "        2    0.000    0.000    0.000    0.000 traitlets.py:3624(validate_elements)\n",
      "        2    0.000    0.000    0.000    0.000 traitlets.py:3631(set)\n",
      "        4    0.000    0.000    0.000    0.000 traitlets.py:629(get)\n",
      "        4    0.000    0.000    0.000    0.000 traitlets.py:676(__get__)\n",
      "        2    0.000    0.000    0.000    0.000 traitlets.py:689(set)\n",
      "        2    0.000    0.000    0.000    0.000 traitlets.py:708(__set__)\n",
      "        2    0.000    0.000    0.000    0.000 traitlets.py:718(_validate)\n",
      "        2    0.000    0.000    0.000    0.000 traitlets.py:727(_cross_validate)\n",
      "        2    0.000    0.000    0.000    0.000 typing.py:1374(__instancecheck__)\n",
      "        4    0.000    0.000    0.000    0.000 typing.py:1443(__hash__)\n",
      "        2    0.000    0.000    0.000    0.000 typing.py:1665(__subclasscheck__)\n",
      "       20    0.000    0.000    0.000    0.000 typing.py:2371(cast)\n",
      "        6    0.000    0.000    0.000    0.000 typing.py:426(inner)\n",
      "        4    0.000    0.000    0.000    0.000 zmqstream.py:528(receiving)\n",
      "        2    0.000    0.000    0.000    0.000 zmqstream.py:532(sending)\n",
      "        2    0.000    0.000    0.000    0.000 zmqstream.py:546(_run_callback)\n",
      "        2    0.000    0.000    0.000    0.000 zmqstream.py:573(_handle_events)\n",
      "        2    0.000    0.000    0.000    0.000 zmqstream.py:614(_handle_recv)\n",
      "        2    0.000    0.000    0.000    0.000 zmqstream.py:653(_rebuild_io_state)\n",
      "        2    0.000    0.000    0.000    0.000 zmqstream.py:676(_update_handler)\n",
      "        1    0.000    0.000    0.000    0.000 zmqstream.py:684(<lambda>)\n",
      "       21    0.000    0.000    0.000    0.000 {built-in method __new__ of type object at 0x1011abcf0}\n",
      "       26    0.000    0.000    0.000    0.000 {built-in method _abc._abc_instancecheck}\n",
      "        2    0.000    0.000    0.000    0.000 {built-in method _abc._abc_subclasscheck}\n",
      "        1    0.000    0.000    0.000    0.000 {built-in method _asyncio.get_running_loop}\n",
      "        1    0.000    0.000    0.000    0.000 {built-in method _contextvars.copy_context}\n",
      "      126    0.000    0.000    0.000    0.000 {built-in method _imp.acquire_lock}\n",
      "       21    0.000    0.000    0.000    0.000 {built-in method _imp.find_frozen}\n",
      "       21    0.000    0.000    0.000    0.000 {built-in method _imp.is_builtin}\n",
      "      126    0.000    0.000    0.000    0.000 {built-in method _imp.release_lock}\n",
      "       22    0.000    0.000    0.000    0.000 {built-in method _thread.allocate_lock}\n",
      "       42    0.000    0.000    0.000    0.000 {built-in method _thread.get_ident}\n",
      "       21    0.000    0.000    0.000    0.000 {built-in method _weakref._remove_dead_weakref}\n",
      "        5    0.000    0.000    0.000    0.000 {built-in method builtins.getattr}\n",
      "        9    0.000    0.000    0.000    0.000 {built-in method builtins.hasattr}\n",
      "        4    0.000    0.000    0.000    0.000 {built-in method builtins.hash}\n",
      "  236/232    0.000    0.000    0.000    0.000 {built-in method builtins.isinstance}\n",
      "        2    0.000    0.000    0.000    0.000 {built-in method builtins.issubclass}\n",
      "        2    0.000    0.000    0.000    0.000 {built-in method builtins.iter}\n",
      "       73    0.000    0.000    0.000    0.000 {built-in method builtins.len}\n",
      "        2    0.000    0.000    0.000    0.000 {built-in method builtins.max}\n",
      "        8    0.000    0.000    0.000    0.000 {built-in method builtins.next}\n",
      "        1    0.005    0.005    0.005    0.005 {built-in method duckdb.duckdb.connect}\n",
      "       21    0.001    0.000    0.001    0.000 {built-in method posix.getcwd}\n",
      "        2    0.000    0.000    0.000    0.000 {built-in method posix.getpid}\n",
      "       84    0.000    0.000    0.000    0.000 {built-in method posix.stat}\n",
      "        3    0.000    0.000    0.000    0.000 {built-in method time.monotonic}\n",
      "        2    0.000    0.000    0.000    0.000 {method '__enter__' of '_thread.lock' objects}\n",
      "       42    0.000    0.000    0.000    0.000 {method '__exit__' of '_thread.RLock' objects}\n",
      "        6    0.000    0.000    0.000    0.000 {method '__exit__' of '_thread.lock' objects}\n",
      "        2    0.001    0.000    0.001    0.000 {method '__exit__' of 'sqlite3.Connection' objects}\n",
      "        3    0.000    0.000    0.000    0.000 {method 'acquire' of '_thread.lock' objects}\n",
      "        3    0.000    0.000    0.000    0.000 {method 'append' of 'collections.deque' objects}\n",
      "       57    0.000    0.000    0.000    0.000 {method 'append' of 'list' objects}\n",
      "        1    0.000    0.000    0.000    0.000 {method 'control' of 'select.kqueue' objects}\n",
      "        1    0.000    0.000    0.000    0.000 {method 'disable' of '_lsprof.Profiler' objects}\n",
      "        1    0.000    0.000    0.000    0.000 {method 'execute' of 'sqlite3.Connection' objects}\n",
      "        2    0.000    0.000    0.000    0.000 {method 'extend' of 'list' objects}\n",
      "       68    0.000    0.000    0.000    0.000 {method 'get' of 'dict' objects}\n",
      "        3    0.000    0.000    0.000    0.000 {method 'items' of 'mappingproxy' objects}\n",
      "      420    0.000    0.000    0.000    0.000 {method 'join' of 'str' objects}\n",
      "       21    0.000    0.000    0.000    0.000 {method 'pop' of 'list' objects}\n",
      "        4    0.000    0.000    0.000    0.000 {method 'popleft' of 'collections.deque' objects}\n",
      "        1    0.000    0.000    0.000    0.000 {method 'release' of '_thread.lock' objects}\n",
      "       21    0.000    0.000    0.000    0.000 {method 'remove' of 'list' objects}\n",
      "      105    0.000    0.000    0.000    0.000 {method 'rpartition' of 'str' objects}\n",
      "      840    0.000    0.000    0.000    0.000 {method 'rstrip' of 'str' objects}\n",
      "        2    0.000    0.000    0.000    0.000 {method 'run' of '_contextvars.Context' objects}\n",
      "        4    0.000    0.000    0.000    0.000 {method 'upper' of 'str' objects}\n",
      "        1    0.000    0.000    0.000    0.000 {method 'values' of 'mappingproxy' objects}\n",
      "\n",
      "\n"
     ]
    }
   ],
   "source": [
    "cProfile.run('q1_time(FILE_PATH)')"
   ]
  },
  {
   "cell_type": "markdown",
   "metadata": {},
   "source": [
    "Uso de memória"
   ]
  },
  {
   "cell_type": "code",
   "execution_count": 8,
   "metadata": {},
   "outputs": [
    {
     "name": "stdout",
     "output_type": "stream",
     "text": [
      "Filename: q1_time.py\n",
      "\n",
      "Line #    Mem usage    Increment  Occurrences   Line Contents\n",
      "=============================================================\n",
      "     7     58.0 MiB     58.0 MiB           1   def q1_time(file_path: str) -> List[Tuple[datetime.date, str]]:\n",
      "     8     69.1 MiB     11.2 MiB           1       con = duckdb.connect(database=':memory:')\n",
      "     9   1361.9 MiB   1292.8 MiB           2       con.execute(f\"\"\"\n",
      "    10                                                 CREATE TABLE tweets AS \n",
      "    11     69.1 MiB      0.0 MiB           1           SELECT * FROM read_ndjson('{file_path}')\n",
      "    12                                             \"\"\")\n",
      "    13   1364.8 MiB      2.9 MiB           1       con.execute(\"\"\"\n",
      "    14                                                 CREATE TABLE tweets_with_date AS\n",
      "    15                                                 SELECT \n",
      "    16                                                     CAST(strptime(tweets['date'], '%Y-%m-%dT%H:%M:%S%z') AT TIME ZONE 'UTC' AS DATE) AS date_only,\n",
      "    17                                                     tweets['user']['username'] AS username\n",
      "    18                                                 FROM tweets\n",
      "    19                                             \"\"\")\n",
      "    20                                             # top 10 dates\n",
      "    21   1365.2 MiB      0.4 MiB           2       top_dates = con.execute(\"\"\"\n",
      "    22                                                 SELECT date_only, COUNT(*) as tweet_count\n",
      "    23                                                 FROM tweets_with_date\n",
      "    24                                                 GROUP BY date_only\n",
      "    25                                                 ORDER BY tweet_count DESC\n",
      "    26                                                 LIMIT 10\n",
      "    27   1365.2 MiB      0.0 MiB           1       \"\"\").fetchall()\n",
      "    28   1365.2 MiB      0.0 MiB           1       result = []\n",
      "    29   1371.7 MiB      0.0 MiB          11       for date_only, _ in top_dates:\n",
      "    30   1371.7 MiB      6.5 MiB          30           top_user = con.execute(\"\"\"\n",
      "    31                                                     SELECT username\n",
      "    32                                                     FROM tweets_with_date\n",
      "    33                                                     WHERE date_only = ?\n",
      "    34                                                     GROUP BY username\n",
      "    35                                                     ORDER BY COUNT(*) DESC\n",
      "    36                                                     LIMIT 1\n",
      "    37   1371.7 MiB      0.0 MiB          20           \"\"\", [date_only]).fetchone()[0]\n",
      "    38   1371.7 MiB      0.0 MiB          10           result.append((date_only, top_user))\n",
      "    39   1178.1 MiB   -193.6 MiB           1       con.close()\n",
      "    40   1178.1 MiB      0.0 MiB           1       return result\n",
      "\n",
      "\n"
     ]
    },
    {
     "data": {
      "text/plain": [
       "CompletedProcess(args=['python3', '-m', 'memory_profiler', 'q1_time.py'], returncode=0)"
      ]
     },
     "execution_count": 8,
     "metadata": {},
     "output_type": "execute_result"
    }
   ],
   "source": [
    "subprocess.run(['python3', '-m', 'memory_profiler', 'q1_time.py'])"
   ]
  },
  {
   "cell_type": "markdown",
   "metadata": {},
   "source": [
    "### q1_memory\n",
    "\n",
    "Dado que el objetivo es seleccionar las fechas y usuarios con más tuits, queda claro que el problema es de conteo. Por lo tanto, no es necesario que se carguen todos los datos en memoria para realizar los cálculos. Así fue posible optimizar el uso de memoria usando Python puro con generadores y contadores nativos. Los generadores garantizan un bajo uso de memoria, ya que esta se libera en cada iteración de datos. El conteo de tuits se realiza en tiempo de ejecución."
   ]
  },
  {
   "cell_type": "markdown",
   "metadata": {},
   "source": [
    "**Output**"
   ]
  },
  {
   "cell_type": "code",
   "execution_count": 11,
   "metadata": {},
   "outputs": [
    {
     "data": {
      "text/plain": [
       "[(datetime.date(2021, 2, 12), 'RanbirS00614606'),\n",
       " (datetime.date(2021, 2, 13), 'MaanDee08215437'),\n",
       " (datetime.date(2021, 2, 17), 'RaaJVinderkaur'),\n",
       " (datetime.date(2021, 2, 16), 'jot__b'),\n",
       " (datetime.date(2021, 2, 14), 'rebelpacifist'),\n",
       " (datetime.date(2021, 2, 18), 'neetuanjle_nitu'),\n",
       " (datetime.date(2021, 2, 15), 'jot__b'),\n",
       " (datetime.date(2021, 2, 20), 'MangalJ23056160'),\n",
       " (datetime.date(2021, 2, 23), 'Surrypuria'),\n",
       " (datetime.date(2021, 2, 19), 'Preetm91')]"
      ]
     },
     "execution_count": 11,
     "metadata": {},
     "output_type": "execute_result"
    }
   ],
   "source": [
    "q1_memory(FILE_PATH)"
   ]
  },
  {
   "cell_type": "markdown",
   "metadata": {},
   "source": [
    "Tiempo de execución"
   ]
  },
  {
   "cell_type": "code",
   "execution_count": 10,
   "metadata": {},
   "outputs": [
    {
     "name": "stdout",
     "output_type": "stream",
     "text": [
      "         1678156 function calls (1678150 primitive calls) in 1.794 seconds\n",
      "\n",
      "   Ordered by: standard name\n",
      "\n",
      "   ncalls  tottime  percall  cumtime  percall filename:lineno(function)\n",
      "        2    0.000    0.000    0.000    0.000 <frozen abc>:121(__subclasscheck__)\n",
      "        1    0.000    0.000    0.000    0.000 <frozen codecs>:263(__init__)\n",
      "        1    0.000    0.000    0.000    0.000 <frozen codecs>:312(__init__)\n",
      "    49772    0.010    0.000    0.035    0.000 <frozen codecs>:322(decode)\n",
      "        4    0.000    0.000    0.000    0.000 <frozen importlib._bootstrap>:1390(_handle_fromlist)\n",
      "      2/1    0.002    0.001    1.730    1.730 <string>:1(<module>)\n",
      "   117407    0.043    0.000    1.232    0.000 __init__.py:299(loads)\n",
      "       13    0.000    0.000    0.000    0.000 __init__.py:599(__init__)\n",
      "    51646    0.002    0.000    0.002    0.000 __init__.py:613(__missing__)\n",
      "       10    0.000    0.000    0.001    0.000 __init__.py:622(most_common)\n",
      "       13    0.000    0.000    0.000    0.000 __init__.py:673(update)\n",
      "        1    0.000    0.000    0.031    0.031 asyncio.py:206(_handle_events)\n",
      "        1    0.000    0.000    0.000    0.000 asyncio.py:231(add_callback)\n",
      "        4    0.000    0.000    0.000    0.000 attrsettr.py:43(__getattr__)\n",
      "        4    0.000    0.000    0.000    0.000 attrsettr.py:66(_get_attr_opt)\n",
      "        1    0.000    0.000    0.000    0.000 base_events.py:1947(_add_callback)\n",
      "        1    0.000    0.000    0.002    0.002 base_events.py:1962(_run_once)\n",
      "        1    0.000    0.000    0.000    0.000 base_events.py:2060(get_debug)\n",
      "        1    0.000    0.000    0.000    0.000 base_events.py:554(_check_closed)\n",
      "        3    0.000    0.000    0.000    0.000 base_events.py:772(time)\n",
      "        1    0.000    0.000    0.000    0.000 base_events.py:823(call_soon)\n",
      "        1    0.000    0.000    0.000    0.000 base_events.py:852(_call_soon)\n",
      "        1    0.000    0.000    0.000    0.000 contextlib.py:108(__init__)\n",
      "        1    0.000    0.000    0.000    0.000 contextlib.py:136(__enter__)\n",
      "        1    0.000    0.000    0.000    0.000 contextlib.py:145(__exit__)\n",
      "        1    0.000    0.000    0.000    0.000 contextlib.py:303(helper)\n",
      "   117407    0.071    0.000    1.173    0.000 decoder.py:340(decode)\n",
      "   117407    1.044    0.000    1.044    0.000 decoder.py:351(raw_decode)\n",
      "        1    0.000    0.000    0.000    0.000 decorator.py:200(fix)\n",
      "        1    0.000    0.000    0.031    0.031 decorator.py:232(fun)\n",
      "       26    0.000    0.000    0.000    0.000 enum.py:1156(__new__)\n",
      "       60    0.000    0.000    0.000    0.000 enum.py:1589(_get_value)\n",
      "       14    0.000    0.000    0.000    0.000 enum.py:1596(__or__)\n",
      "        6    0.000    0.000    0.000    0.000 enum.py:1607(__and__)\n",
      "       26    0.000    0.000    0.000    0.000 enum.py:695(__call__)\n",
      "        1    0.000    0.000    0.000    0.000 events.py:36(__init__)\n",
      "        2    0.000    0.000    0.031    0.016 events.py:87(_run)\n",
      "   117408    0.329    0.000    1.596    0.000 functions.py:5(read_json_lines_generator)\n",
      "       10    0.000    0.000    0.001    0.000 heapq.py:523(nlargest)\n",
      "        1    0.000    0.000    0.000    0.000 history.py:1008(_writeout_input_cache)\n",
      "        1    0.000    0.000    0.000    0.000 history.py:1016(_writeout_output_cache)\n",
      "        1    0.000    0.000    0.000    0.000 history.py:1024(writeout_cache)\n",
      "        2    0.000    0.000    0.000    0.000 history.py:1065(hold)\n",
      "        1    0.000    0.000    0.000    0.000 history.py:92(only_when_enabled)\n",
      "        4    0.000    0.000    0.000    0.000 inspect.py:2807(name)\n",
      "       10    0.000    0.000    0.000    0.000 inspect.py:2819(kind)\n",
      "        1    0.000    0.000    0.000    0.000 inspect.py:2901(__init__)\n",
      "        1    0.000    0.000    0.000    0.000 inspect.py:2909(args)\n",
      "        1    0.000    0.000    0.000    0.000 inspect.py:2932(kwargs)\n",
      "        1    0.000    0.000    0.000    0.000 inspect.py:2962(apply_defaults)\n",
      "        4    0.000    0.000    0.000    0.000 inspect.py:3102(parameters)\n",
      "        1    0.000    0.000    0.000    0.000 inspect.py:3148(_bind)\n",
      "        1    0.000    0.000    0.000    0.000 inspect.py:3290(bind)\n",
      "        1    0.000    0.000    0.000    0.000 ioloop.py:750(_run_callback)\n",
      "        2    0.000    0.000    0.031    0.015 iostream.py:157(_handle_event)\n",
      "        2    0.000    0.000    0.000    0.000 iostream.py:213(_is_master_process)\n",
      "        2    0.000    0.000    0.000    0.000 iostream.py:216(_check_mp_mode)\n",
      "        2    0.000    0.000    0.000    0.000 iostream.py:255(closed)\n",
      "        2    0.000    0.000    0.061    0.031 iostream.py:276(<lambda>)\n",
      "        2    0.000    0.000    0.030    0.015 iostream.py:278(_really_send)\n",
      "        1    0.138    0.138    1.729    1.729 q1_memory.py:8(q1_memory)\n",
      "        2    0.000    0.000    0.000    0.000 queue.py:115(empty)\n",
      "        2    0.000    0.000    0.000    0.000 queue.py:267(_qsize)\n",
      "        2    0.000    0.000    0.000    0.000 selector_events.py:740(_process_events)\n",
      "        1    0.000    0.000    0.001    0.001 selectors.py:540(select)\n",
      "       14    0.000    0.000    0.000    0.000 socket.py:623(send)\n",
      "        2    0.002    0.001    0.030    0.015 socket.py:700(send_multipart)\n",
      "        2    0.000    0.000    0.000    0.000 socket.py:771(recv_multipart)\n",
      "        2    0.000    0.000    0.000    0.000 threading.py:303(__enter__)\n",
      "        2    0.000    0.000    0.000    0.000 threading.py:306(__exit__)\n",
      "        1    0.000    0.000    0.000    0.000 threading.py:312(_release_save)\n",
      "        1    0.000    0.000    0.000    0.000 threading.py:315(_acquire_restore)\n",
      "        1    0.000    0.000    0.000    0.000 threading.py:318(_is_owned)\n",
      "        1    0.000    0.000    0.000    0.000 threading.py:631(clear)\n",
      "        1    0.000    0.000    0.000    0.000 traitlets.py:1512(_notify_trait)\n",
      "        1    0.000    0.000    0.000    0.000 traitlets.py:1523(notify_change)\n",
      "        1    0.000    0.000    0.000    0.000 traitlets.py:1527(_notify_observers)\n",
      "        2    0.000    0.000    0.000    0.000 traitlets.py:2304(validate)\n",
      "        2    0.000    0.000    0.000    0.000 traitlets.py:3474(validate)\n",
      "        2    0.000    0.000    0.000    0.000 traitlets.py:3486(validate_elements)\n",
      "        2    0.000    0.000    0.000    0.000 traitlets.py:3624(validate_elements)\n",
      "        2    0.000    0.000    0.000    0.000 traitlets.py:3631(set)\n",
      "        4    0.000    0.000    0.000    0.000 traitlets.py:629(get)\n",
      "        4    0.000    0.000    0.000    0.000 traitlets.py:676(__get__)\n",
      "        2    0.000    0.000    0.000    0.000 traitlets.py:689(set)\n",
      "        2    0.000    0.000    0.000    0.000 traitlets.py:708(__set__)\n",
      "        2    0.000    0.000    0.000    0.000 traitlets.py:718(_validate)\n",
      "        2    0.000    0.000    0.000    0.000 traitlets.py:727(_cross_validate)\n",
      "        2    0.000    0.000    0.000    0.000 typing.py:1374(__instancecheck__)\n",
      "        4    0.000    0.000    0.000    0.000 typing.py:1443(__hash__)\n",
      "        2    0.000    0.000    0.000    0.000 typing.py:1665(__subclasscheck__)\n",
      "       20    0.000    0.000    0.000    0.000 typing.py:2371(cast)\n",
      "        6    0.000    0.000    0.000    0.000 typing.py:426(inner)\n",
      "        4    0.000    0.000    0.000    0.000 zmqstream.py:528(receiving)\n",
      "        2    0.000    0.000    0.000    0.000 zmqstream.py:532(sending)\n",
      "        2    0.000    0.000    0.031    0.015 zmqstream.py:546(_run_callback)\n",
      "        2    0.000    0.000    0.031    0.016 zmqstream.py:573(_handle_events)\n",
      "        2    0.000    0.000    0.031    0.015 zmqstream.py:614(_handle_recv)\n",
      "        2    0.000    0.000    0.000    0.000 zmqstream.py:653(_rebuild_io_state)\n",
      "        2    0.000    0.000    0.000    0.000 zmqstream.py:676(_update_handler)\n",
      "        1    0.000    0.000    0.000    0.000 zmqstream.py:684(<lambda>)\n",
      "        2    0.000    0.000    0.000    0.000 {built-in method _abc._abc_subclasscheck}\n",
      "        1    0.000    0.000    0.000    0.000 {built-in method _asyncio.get_running_loop}\n",
      "    49772    0.025    0.000    0.025    0.000 {built-in method _codecs.utf_8_decode}\n",
      "        1    0.000    0.000    0.000    0.000 {built-in method _contextvars.copy_context}\n",
      "        1    0.000    0.000    0.000    0.000 {built-in method _io.open}\n",
      "        1    0.000    0.000    0.000    0.000 {built-in method _thread.allocate_lock}\n",
      "      2/1    0.031    0.016    1.763    1.763 {built-in method builtins.exec}\n",
      "        5    0.000    0.000    0.000    0.000 {built-in method builtins.getattr}\n",
      "        9    0.000    0.000    0.000    0.000 {built-in method builtins.hasattr}\n",
      "        4    0.000    0.000    0.000    0.000 {built-in method builtins.hash}\n",
      "117538/117534    0.007    0.000    0.007    0.000 {built-in method builtins.isinstance}\n",
      "        2    0.000    0.000    0.000    0.000 {built-in method builtins.issubclass}\n",
      "       12    0.000    0.000    0.000    0.000 {built-in method builtins.iter}\n",
      "   117417    0.007    0.000    0.007    0.000 {built-in method builtins.len}\n",
      "       12    0.001    0.000    0.001    0.000 {built-in method builtins.max}\n",
      "        8    0.000    0.000    0.000    0.000 {built-in method builtins.next}\n",
      "        1    0.000    0.000    0.000    0.000 {built-in method builtins.sorted}\n",
      "       13    0.000    0.000    0.000    0.000 {built-in method builtins.sum}\n",
      "   117407    0.011    0.000    0.011    0.000 {built-in method fromisoformat}\n",
      "        2    0.000    0.000    0.000    0.000 {built-in method posix.getpid}\n",
      "        3    0.000    0.000    0.000    0.000 {built-in method time.monotonic}\n",
      "        2    0.000    0.000    0.000    0.000 {method '__enter__' of '_thread.lock' objects}\n",
      "        1    0.000    0.000    0.000    0.000 {method '__exit__' of '_io._IOBase' objects}\n",
      "        6    0.000    0.000    0.000    0.000 {method '__exit__' of '_thread.lock' objects}\n",
      "        2    0.000    0.000    0.000    0.000 {method '__exit__' of 'sqlite3.Connection' objects}\n",
      "        3    0.000    0.000    0.000    0.000 {method 'acquire' of '_thread.lock' objects}\n",
      "        3    0.000    0.000    0.000    0.000 {method 'append' of 'collections.deque' objects}\n",
      "       15    0.000    0.000    0.000    0.000 {method 'append' of 'list' objects}\n",
      "        1    0.000    0.000    0.000    0.000 {method 'control' of 'select.kqueue' objects}\n",
      "   117407    0.009    0.000    0.009    0.000 {method 'date' of 'datetime.datetime' objects}\n",
      "        1    0.000    0.000    0.000    0.000 {method 'disable' of '_lsprof.Profiler' objects}\n",
      "   234814    0.016    0.000    0.016    0.000 {method 'end' of 're.Match' objects}\n",
      "        1    0.000    0.000    0.000    0.000 {method 'execute' of 'sqlite3.Connection' objects}\n",
      "        2    0.000    0.000    0.000    0.000 {method 'extend' of 'list' objects}\n",
      "        5    0.000    0.000    0.000    0.000 {method 'get' of 'dict' objects}\n",
      "       11    0.000    0.000    0.000    0.000 {method 'items' of 'dict' objects}\n",
      "        3    0.000    0.000    0.000    0.000 {method 'items' of 'mappingproxy' objects}\n",
      "   234814    0.036    0.000    0.036    0.000 {method 'match' of 're.Pattern' objects}\n",
      "        4    0.000    0.000    0.000    0.000 {method 'popleft' of 'collections.deque' objects}\n",
      "        1    0.000    0.000    0.000    0.000 {method 'release' of '_thread.lock' objects}\n",
      "        2    0.000    0.000    0.031    0.016 {method 'run' of '_contextvars.Context' objects}\n",
      "   117407    0.009    0.000    0.009    0.000 {method 'startswith' of 'str' objects}\n",
      "        4    0.000    0.000    0.000    0.000 {method 'upper' of 'str' objects}\n",
      "       13    0.000    0.000    0.000    0.000 {method 'values' of 'dict' objects}\n",
      "        1    0.000    0.000    0.000    0.000 {method 'values' of 'mappingproxy' objects}\n",
      "\n",
      "\n"
     ]
    }
   ],
   "source": [
    "cProfile.run('q1_memory(FILE_PATH)')"
   ]
  },
  {
   "cell_type": "markdown",
   "metadata": {},
   "source": [
    "Uso de memória"
   ]
  },
  {
   "cell_type": "code",
   "execution_count": 12,
   "metadata": {},
   "outputs": [
    {
     "name": "stdout",
     "output_type": "stream",
     "text": [
      "Filename: q1_memory.py\n",
      "\n",
      "Line #    Mem usage    Increment  Occurrences   Line Contents\n",
      "=============================================================\n",
      "     8     52.2 MiB     52.2 MiB           1   def q1_memory(file_path: str) -> List[Tuple[datetime.date, str]]:\n",
      "     9                                         \n",
      "    10     52.2 MiB      0.0 MiB           1       nested_dict = defaultdict(Counter)\n",
      "    11     58.4 MiB      4.4 MiB      117408       for line in read_json_lines_generator(file_path):\n",
      "    12     58.4 MiB      0.0 MiB      117407           date_part = datetime.fromisoformat(line['date']).date()\n",
      "    13     58.4 MiB      1.7 MiB      117407           nested_dict[date_part][line['user']['username']] += 1\n",
      "    14                                             \n",
      "    15                                             # total tweet counts per date\n",
      "    16     58.4 MiB      0.0 MiB          14       date_counts = {date: sum(user_counts.values()) for date, user_counts in nested_dict.items()}\n",
      "    17                                             # top 10\n",
      "    18     58.4 MiB      0.0 MiB           1       top_dates = sorted(date_counts, key=date_counts.get, reverse=True)[:10]\n",
      "    19     58.4 MiB      0.0 MiB           1       result = []\n",
      "    20     58.4 MiB      0.0 MiB          11       for date in top_dates:\n",
      "    21     58.4 MiB      0.0 MiB          10           top_user = nested_dict[date].most_common(1)[0][0] # get userName\n",
      "    22     58.4 MiB      0.0 MiB          10           result.append((date, top_user))\n",
      "    23     58.4 MiB      0.0 MiB           1       return result\n",
      "\n",
      "\n"
     ]
    },
    {
     "data": {
      "text/plain": [
       "CompletedProcess(args=['python3', '-m', 'memory_profiler', 'q1_memory.py'], returncode=0)"
      ]
     },
     "execution_count": 12,
     "metadata": {},
     "output_type": "execute_result"
    }
   ],
   "source": [
    "subprocess.run(['python3', '-m', 'memory_profiler', 'q1_memory.py'])"
   ]
  },
  {
   "cell_type": "markdown",
   "metadata": {},
   "source": [
    "### Conclusión\n",
    "\n",
    "Dado que este problema es de conteo, el enfoque de no cargar todos los datos en memoria es una buena opción. Así, si el bajo uso de memoria es un enfoque en el desarrollo, es recomendable explorar soluciones basadas en iteración. Con los datos de ejemplo, esta estrategia logró tanto un bajo uso de memoria como un buen tiempo de ejecución. Sin embargo, si la cantidad de archivos aumenta, esta estrategia podría no tener un buen desempeño.\n",
    "\n",
    "Utilicé DuckDB para explorar esta herramienta, que es más nueva y, aunque cargue los datos en memoria, tiene distintas maneras de optimización que la hacen muy eficiente por sí sola, logrando un tiempo de ejecución de menos de 1 segundo."
   ]
  },
  {
   "cell_type": "markdown",
   "metadata": {},
   "source": [
    "| Enfoque | Abordaje | Tiempo(s)   | Memoria(MiB) |\n",
    "| -------- | -------- | -------- | ------- |\n",
    "| Tiempo | DuckDB   | < 1  | 1163 |\n",
    "| Memoria | Generator | 1.7 | 56     |"
   ]
  }
 ],
 "metadata": {
  "kernelspec": {
   "display_name": ".venv",
   "language": "python",
   "name": "python3"
  },
  "language_info": {
   "codemirror_mode": {
    "name": "ipython",
    "version": 3
   },
   "file_extension": ".py",
   "mimetype": "text/x-python",
   "name": "python",
   "nbconvert_exporter": "python",
   "pygments_lexer": "ipython3",
   "version": "3.13.5"
  },
  "orig_nbformat": 4
 },
 "nbformat": 4,
 "nbformat_minor": 2
}
